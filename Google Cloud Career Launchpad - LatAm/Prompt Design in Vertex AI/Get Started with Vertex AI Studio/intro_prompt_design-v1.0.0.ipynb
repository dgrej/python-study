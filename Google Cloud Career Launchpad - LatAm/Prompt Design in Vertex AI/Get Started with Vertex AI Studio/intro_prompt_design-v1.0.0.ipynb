{
 "cells": [
  {
   "cell_type": "code",
   "execution_count": null,
   "metadata": {
    "id": "ur8xi4C7S06n"
   },
   "outputs": [],
   "source": [
    "# Copyright 2024 Google LLC\n",
    "#\n",
    "# Licensed under the Apache License, Version 2.0 (the \"License\");\n",
    "# you may not use this file except in compliance with the License.\n",
    "# You may obtain a copy of the License at\n",
    "#\n",
    "#     https://www.apache.org/licenses/LICENSE-2.0\n",
    "#\n",
    "# Unless required by applicable law or agreed to in writing, software\n",
    "# distributed under the License is distributed on an \"AS IS\" BASIS,\n",
    "# WITHOUT WARRANTIES OR CONDITIONS OF ANY KIND, either express or implied.\n",
    "# See the License for the specific language governing permissions and\n",
    "# limitations under the License."
   ]
  },
  {
   "cell_type": "markdown",
   "metadata": {
    "id": "JAPoU8Sm5E6e"
   },
   "source": [
    "# Prompt Design - Best Practices\n",
    "\n",
    "<table align=\"left\">\n",
    "  <td style=\"text-align: center\">\n",
    "    <a href=\"https://colab.research.google.com/github/GoogleCloudPlatform/generative-ai/blob/main/gemini/prompts/intro_prompt_design.ipynb\">\n",
    "      <img src=\"https://cloud.google.com/ml-engine/images/colab-logo-32px.png\" alt=\"Google Colaboratory logo\"><br> Open in Colab\n",
    "    </a>\n",
    "  </td>\n",
    "  <td style=\"text-align: center\">\n",
    "    <a href=\"https://console.cloud.google.com/vertex-ai/colab/import/https:%2F%2Fraw.githubusercontent.com%2FGoogleCloudPlatform%2Fgenerative-ai%2Fmain%2Fgemini%2Fprompts%2Fintro_prompt_design.ipynb\">\n",
    "      <img width=\"32px\" src=\"https://lh3.googleusercontent.com/JmcxdQi-qOpctIvWKgPtrzZdJJK-J3sWE1RsfjZNwshCFgE_9fULcNpuXYTilIR2hjwN\" alt=\"Google Cloud Colab Enterprise logo\"><br> Open in Colab Enterprise\n",
    "    </a>\n",
    "  </td>    \n",
    "  <td style=\"text-align: center\">\n",
    "    <a href=\"https://console.cloud.google.com/vertex-ai/workbench/deploy-notebook?download_url=https://raw.githubusercontent.com/GoogleCloudPlatform/generative-ai/main/gemini/prompts/intro_prompt_design.ipynb\">\n",
    "      <img src=\"https://lh3.googleusercontent.com/UiNooY4LUgW_oTvpsNhPpQzsstV5W8F7rYgxgGBD85cWJoLmrOzhVs_ksK_vgx40SHs7jCqkTkCk=e14-rj-sc0xffffff-h130-w32\" alt=\"Vertex AI logo\"><br> Open in Workbench\n",
    "    </a>\n",
    "  </td>\n",
    "  <td style=\"text-align: center\">\n",
    "    <a href=\"https://github.com/GoogleCloudPlatform/generative-ai/blob/main/gemini/prompts/intro_prompt_design.ipynb\">\n",
    "      <img src=\"https://cloud.google.com/ml-engine/images/github-logo-32px.png\" alt=\"GitHub logo\"><br> View on GitHub\n",
    "    </a>\n",
    "  </td>\n",
    "</table>"
   ]
  },
  {
   "cell_type": "markdown",
   "metadata": {
    "id": "84f0f73a0f76"
   },
   "source": [
    "| | | |\n",
    "|-|-|-|\n",
    "|Author(s) | [Polong Lin](https://github.com/polong-lin) | [Karl Weinmeister](https://github.com/kweinmeister)|"
   ]
  },
  {
   "cell_type": "markdown",
   "metadata": {
    "id": "tvgnzT1CKxrO"
   },
   "source": [
    "## Overview\n",
    "\n",
    "This notebook covers the essentials of prompt engineering, including some best practices.\n",
    "\n",
    "Learn more about prompt design in the [official documentation](https://cloud.google.com/vertex-ai/docs/generative-ai/text/text-overview).\n",
    "\n",
    "In this notebook, you learn best practices around prompt engineering -- how to design prompts to improve the quality of your responses.\n",
    "\n",
    "This notebook covers the following best practices for prompt engineering:\n",
    "\n",
    "- Be concise\n",
    "- Be specific and well-defined\n",
    "- Ask one task at a time\n",
    "- Turn generative tasks into classification tasks\n",
    "- Improve response quality by including examples"
   ]
  },
  {
   "cell_type": "markdown",
   "metadata": {
    "id": "61RBz8LLbxCR"
   },
   "source": [
    "## Getting Started"
   ]
  },
  {
   "cell_type": "markdown",
   "metadata": {
    "id": "No17Cw5hgx12"
   },
   "source": [
    "### Install Vertex AI SDK and other required packages\n"
   ]
  },
  {
   "cell_type": "code",
   "execution_count": 1,
   "metadata": {
    "id": "tFy3H3aPgx12",
    "tags": []
   },
   "outputs": [
    {
     "name": "stdout",
     "output_type": "stream",
     "text": [
      "Note: you may need to restart the kernel to use updated packages.\n"
     ]
    }
   ],
   "source": [
    "%pip install --upgrade --user --quiet google-cloud-aiplatform"
   ]
  },
  {
   "cell_type": "markdown",
   "metadata": {
    "id": "R5Xep4W9lq-Z"
   },
   "source": [
    "### Restart runtime\n",
    "\n",
    "To use the newly installed packages in this Jupyter runtime, you must restart the runtime. You can do this by running the cell below, which will restart the current kernel."
   ]
  },
  {
   "cell_type": "code",
   "execution_count": 2,
   "metadata": {
    "id": "XRvKdaPDTznN",
    "tags": []
   },
   "outputs": [
    {
     "data": {
      "text/plain": [
       "{'status': 'ok', 'restart': True}"
      ]
     },
     "execution_count": 2,
     "metadata": {},
     "output_type": "execute_result"
    }
   ],
   "source": [
    "import IPython\n",
    "\n",
    "app = IPython.Application.instance()\n",
    "app.kernel.do_shutdown(True)"
   ]
  },
  {
   "cell_type": "markdown",
   "metadata": {
    "id": "SbmM4z7FOBpM"
   },
   "source": [
    "<div class=\"alert alert-block alert-warning\">\n",
    "<b>⚠️ The kernel is going to restart. Please wait until it is finished before continuing to the next step. ⚠️</b>\n",
    "</div>\n"
   ]
  },
  {
   "cell_type": "markdown",
   "metadata": {
    "id": "dmWOrTJ3gx13"
   },
   "source": [
    "### Authenticate your notebook environment (Colab only)\n",
    "\n",
    "Authenticate your environment on Google Colab.\n"
   ]
  },
  {
   "cell_type": "code",
   "execution_count": 1,
   "metadata": {
    "id": "NyKGtVQjgx13",
    "tags": []
   },
   "outputs": [],
   "source": [
    "import sys\n",
    "\n",
    "if \"google.colab\" in sys.modules:\n",
    "    from google.colab import auth\n",
    "\n",
    "    auth.authenticate_user()"
   ]
  },
  {
   "cell_type": "markdown",
   "metadata": {
    "id": "DF4l8DTdWgPY"
   },
   "source": [
    "### Set Google Cloud project information and initialize Vertex AI SDK\n",
    "\n",
    "To get started using Vertex AI, you must have an existing Google Cloud project and [enable the Vertex AI API](https://console.cloud.google.com/flows/enableapi?apiid=aiplatform.googleapis.com).\n",
    "\n",
    "Learn more about [setting up a project and a development environment](https://cloud.google.com/vertex-ai/docs/start/cloud-environment)."
   ]
  },
  {
   "cell_type": "code",
   "execution_count": 2,
   "metadata": {
    "id": "Nqwi-5ufWp_B",
    "tags": []
   },
   "outputs": [],
   "source": [
    "PROJECT_ID = \"qwiklabs-gcp-02-d4e1167507ba\"  # @param {type:\"string\"}\n",
    "LOCATION = \"us-west1\"  # @param {type:\"string\"}\n",
    "\n",
    "import vertexai\n",
    "\n",
    "vertexai.init(project=PROJECT_ID, location=LOCATION)"
   ]
  },
  {
   "cell_type": "code",
   "execution_count": 3,
   "metadata": {
    "id": "QqRWdPGmW3NJ",
    "tags": []
   },
   "outputs": [],
   "source": [
    "from vertexai.generative_models import GenerationConfig, GenerativeModel\n",
    "import time"
   ]
  },
  {
   "cell_type": "markdown",
   "metadata": {
    "id": "OnFPpCRtXRl4"
   },
   "source": [
    "### Load model"
   ]
  },
  {
   "cell_type": "code",
   "execution_count": 4,
   "metadata": {
    "id": "IQYu_9SvXQah",
    "tags": []
   },
   "outputs": [],
   "source": [
    "model = GenerativeModel(\"gemini-1.5-flash\")"
   ]
  },
  {
   "cell_type": "code",
   "execution_count": 5,
   "metadata": {
    "tags": []
   },
   "outputs": [],
   "source": [
    "import time\n",
    "\n",
    "def call_gemini(prompt, generation_config=GenerationConfig(temperature=1.0)):\n",
    "    wait_time = 1\n",
    "    while True:\n",
    "        try:\n",
    "            response = model.generate_content(prompt, generation_config=generation_config).text\n",
    "            return response\n",
    "            break  # Exit the loop if successful\n",
    "        except Exception as e:  # Replace with the actual exception type\n",
    "            time.sleep(wait_time)\n",
    "            wait_time *= 2  # Double the wait time\n",
    "\n",
    "def send_message_gemini(model, prompt):    \n",
    "    wait_time = 1\n",
    "    while True:\n",
    "        try:\n",
    "            response = model.send_message(prompt).text\n",
    "            return response\n",
    "            break  # Exit the loop if successful\n",
    "        except Exception as e:  # Replace with the actual exception type\n",
    "            time.sleep(wait_time)\n",
    "            wait_time *= 2  # Double the wait time"
   ]
  },
  {
   "cell_type": "markdown",
   "metadata": {
    "id": "cVOtUNJ5X0PY"
   },
   "source": [
    "## Prompt engineering best practices"
   ]
  },
  {
   "cell_type": "markdown",
   "metadata": {
    "id": "uv_e0fEPX60q"
   },
   "source": [
    "Prompt engineering is all about how to design your prompts so that the response is what you were indeed hoping to see.\n",
    "\n",
    "The idea of using \"unfancy\" prompts is to minimize the noise in your prompt to reduce the possibility of the LLM misinterpreting the intent of the prompt. Below are a few guidelines on how to engineer \"unfancy\" prompts.\n",
    "\n",
    "In this section, you'll cover the following best practices when engineering prompts:\n",
    "\n",
    "* Be concise\n",
    "* Be specific, and well-defined\n",
    "* Ask one task at a time\n",
    "* Improve response quality by including examples\n",
    "* Turn generative tasks to classification tasks to improve safety"
   ]
  },
  {
   "cell_type": "markdown",
   "metadata": {
    "id": "0pY4XX0OX9_Y"
   },
   "source": [
    "### Be concise"
   ]
  },
  {
   "cell_type": "markdown",
   "metadata": {
    "id": "xlRpxyxGYA1K"
   },
   "source": [
    "🛑 Not recommended. The prompt below is unnecessarily verbose."
   ]
  },
  {
   "cell_type": "code",
   "execution_count": 6,
   "metadata": {
    "id": "YKV4G-CfXdbi",
    "tags": []
   },
   "outputs": [
    {
     "name": "stdout",
     "output_type": "stream",
     "text": [
      "Here are some names for a flower shop specializing in dried flowers, playing on different themes:\n",
      "\n",
      "**Evoking Timelessness & Enduring Beauty:**\n",
      "\n",
      "* **Everlasting Blooms**\n",
      "* **Dried & Divine**\n",
      "* **The Timeless Bouquet**\n",
      "* **Bloom Forever**\n",
      "* **Eternally Blooming**\n",
      "* **The Dried Flower Gallery**\n",
      "* **Whispers of Bloom**\n",
      "\n",
      "**Highlighting Unique & Vintage Appeal:**\n",
      "\n",
      "* **The Vintage Bloom**\n",
      "* **Botanicals & Co.**\n",
      "* **The Dried Flower Atelier**\n",
      "* **Rustic Blooms**\n",
      "* **The Flower Alchemist**\n",
      "* **Whispers of Lavender** (if you specialize in lavender)\n",
      "* **The Dried Flower Market**\n",
      "\n",
      "**Emphasizing Natural & Eco-Friendly:**\n",
      "\n",
      "* **Earth & Bloom**\n",
      "* **The Dried Garden**\n",
      "* **Nature's Hues**\n",
      "* **Botanicals & Soul**\n",
      "* **The Eco Bloom**\n",
      "* **Wildflower Dreams**\n",
      "\n",
      "**Playing with a Playful Tone:**\n",
      "\n",
      "* **Forever in Bloom**\n",
      "* **The Dried Flower Bar**\n",
      "* **Bloom & Beyond**\n",
      "* **The Dusty Bouquet**\n",
      "* **Forever Flowers**\n",
      "\n",
      "**Things to Consider When Choosing a Name:**\n",
      "\n",
      "* **Target audience:** Who are you trying to reach with your shop?\n",
      "* **Brand personality:** What kind of vibe do you want to convey?\n",
      "* **Memorability:** Is the name easy to remember and pronounce?\n",
      "* **Availability:** Is the name available for use as a website domain and social media handles?\n",
      "\n",
      "Ultimately, the best name for your flower shop is one that resonates with you and your brand. Don't be afraid to get creative and have fun with it! \n",
      "\n"
     ]
    }
   ],
   "source": [
    "prompt = \"What do you think could be a good name for a flower shop that specializes in selling bouquets of dried flowers more than fresh flowers?\"\n",
    "\n",
    "print(call_gemini(prompt))"
   ]
  },
  {
   "cell_type": "markdown",
   "metadata": {
    "id": "YrJexRHJYnmC"
   },
   "source": [
    "✅ Recommended. The prompt below is to the point and concise."
   ]
  },
  {
   "cell_type": "code",
   "execution_count": 7,
   "metadata": {
    "id": "VHetn9lCYrXB",
    "tags": []
   },
   "outputs": [
    {
     "name": "stdout",
     "output_type": "stream",
     "text": [
      "## Flower Shop Names for Dried Bouquets:\n",
      "\n",
      "**Short & Sweet:**\n",
      "\n",
      "* Bloom & Dust\n",
      "* The Dried Petal\n",
      "* Timeless Blooms\n",
      "* Everlasting Florals\n",
      "* Willow & Wild\n",
      "* Petal & Paper\n",
      "* Thistle & Twig\n",
      "\n",
      "**Descriptive & Elegant:**\n",
      "\n",
      "* The Dried Garden\n",
      "* The Botanical Collection\n",
      "* Whispers of Bloom\n",
      "* The Bloom Archive\n",
      "* Sun-Kissed Flowers\n",
      "* Dusty Blooms\n",
      "* The Everlasting Bouquet\n",
      "\n",
      "**Whimsical & Playful:**\n",
      "\n",
      "* Bloom Forever\n",
      "* The Dried Flower Fairy\n",
      "* Petal & Plume\n",
      "* Bloom & Dust Co.\n",
      "* The Flower Whisperer\n",
      "* The Dusty Bouquet\n",
      "* The Forever Bloom\n",
      "\n",
      "**Unique & Creative:**\n",
      "\n",
      "* The Paper Petal\n",
      "* Bloom & Bone\n",
      "* The Wildflower Archive\n",
      "* Sun & Stone Florals\n",
      "* The Botanical Muse\n",
      "* The Bloom Library\n",
      "* The Flower Alchemist\n",
      "\n",
      "**Location Specific:**\n",
      "\n",
      "* [City Name] Dried Florals\n",
      "* [Neighborhood Name] Blooms\n",
      "* [Landmark] Flower Co.\n",
      "\n",
      "**Bonus Tip:** Consider using a play on words or a pun for a more memorable name. For example:\n",
      "\n",
      "* \"Dried & True\"\n",
      "* \"The Bloom & Bustle\"\n",
      "* \"The Dusty Bouquet\"\n",
      "\n",
      "**Remember to check for availability of the name before settling on your final choice!** \n",
      "\n"
     ]
    }
   ],
   "source": [
    "prompt = \"Suggest a name for a flower shop that sells bouquets of dried flowers\"\n",
    "\n",
    "print(call_gemini(prompt))"
   ]
  },
  {
   "cell_type": "markdown",
   "metadata": {
    "id": "eXTAvdOHY0OC"
   },
   "source": [
    "### Be specific, and well-defined"
   ]
  },
  {
   "cell_type": "markdown",
   "metadata": {
    "id": "FTH4GEIgY1dp"
   },
   "source": [
    "Suppose that you want to brainstorm creative ways to describe Earth."
   ]
  },
  {
   "cell_type": "markdown",
   "metadata": {
    "id": "o5BmXBiGY4KC"
   },
   "source": [
    "🛑 The prompt below might be a bit too generic (which is certainly OK if you'd like to ask a generic question!)"
   ]
  },
  {
   "cell_type": "code",
   "execution_count": 8,
   "metadata": {
    "id": "eHBaMvv7Y6mR",
    "tags": []
   },
   "outputs": [
    {
     "name": "stdout",
     "output_type": "stream",
     "text": [
      "## Earth: Our Home Planet\n",
      "\n",
      "Earth, the third planet from the sun, is a vibrant and dynamic world teeming with life. Here's a glimpse into its fascinating features:\n",
      "\n",
      "**The Basics:**\n",
      "\n",
      "* **Size:**  A diameter of 12,742 kilometers (7,926 miles)\n",
      "* **Mass:** 5.972 × 10^24 kilograms \n",
      "* **Distance from the Sun:** 149.6 million kilometers (93 million miles)\n",
      "* **Orbital Period:** 365.25 days \n",
      "* **Rotation Period:** 23.93 hours\n",
      "* **Natural Satellite:** The Moon\n",
      "\n",
      "**Composition:**\n",
      "\n",
      "* **Surface:**  70% water, 30% land\n",
      "* **Atmosphere:** Primarily nitrogen and oxygen, with trace amounts of other gases\n",
      "* **Core:** A solid inner core made of iron and nickel, surrounded by a liquid outer core\n",
      "\n",
      "**Unique Features:**\n",
      "\n",
      "* **Plate Tectonics:** The Earth's surface is divided into tectonic plates that move and interact, causing earthquakes, volcanoes, and mountain formation.\n",
      "* **Magnetic Field:**  The Earth's core generates a magnetic field that shields us from harmful solar radiation.\n",
      "* **Hydrosphere:**  The vast amount of water on Earth, in oceans, lakes, rivers, and ice, is essential for life.\n",
      "* **Biosphere:** Earth is the only known planet to harbor life, with a diverse range of plants, animals, and microorganisms.\n",
      "\n",
      "**Interesting Facts:**\n",
      "\n",
      "* Earth is the only planet known to have liquid water on its surface.\n",
      "* The Earth's atmosphere is constantly changing due to natural and human-caused factors.\n",
      "* Earth has experienced numerous ice ages and warm periods throughout its history.\n",
      "* The Earth's magnetic field flips its poles every few hundred thousand years.\n",
      "\n",
      "**Threats to Earth:**\n",
      "\n",
      "* **Climate Change:** Human activities are releasing greenhouse gases, causing global warming and impacting weather patterns.\n",
      "* **Pollution:** Air, water, and land pollution pose a threat to both humans and the environment.\n",
      "* **Deforestation:**  Loss of forests contributes to climate change, habitat loss, and biodiversity decline.\n",
      "* **Overpopulation:**  The growing human population puts a strain on resources and the environment.\n",
      "\n",
      "**Our Responsibility:**\n",
      "\n",
      "* Understanding and addressing the challenges facing Earth is crucial for ensuring a sustainable future for all life on the planet.\n",
      "* By adopting sustainable practices, reducing our environmental footprint, and advocating for responsible policies, we can contribute to protecting our home planet.\n",
      "\n",
      "**Explore Further:**\n",
      "\n",
      "* **NASA:** https://www.nasa.gov/\n",
      "* **National Geographic:** https://www.nationalgeographic.com/\n",
      "* **World Wildlife Fund:** https://www.worldwildlife.org/\n",
      "\n",
      "Earth is a remarkable planet, and our understanding of it continues to grow. Through scientific exploration and responsible stewardship, we can ensure the health and wellbeing of this unique and precious world. \n",
      "\n"
     ]
    }
   ],
   "source": [
    "prompt = \"Tell me about Earth\"\n",
    "\n",
    "print(call_gemini(prompt))"
   ]
  },
  {
   "cell_type": "markdown",
   "metadata": {
    "id": "4iyvEbteZnFL"
   },
   "source": [
    "✅ Recommended. The prompt below is specific and well-defined."
   ]
  },
  {
   "cell_type": "code",
   "execution_count": 9,
   "metadata": {
    "id": "JQ80z8urZnne",
    "tags": []
   },
   "outputs": [
    {
     "name": "stdout",
     "output_type": "stream",
     "text": [
      "## What Makes Earth Unique:\n",
      "\n",
      "**1. Presence of Liquid Water:** \n",
      "- Earth is the only known planet with liquid water on its surface, essential for life as we know it.\n",
      "- Water acts as a solvent, facilitates chemical reactions, and regulates temperature.\n",
      "\n",
      "**2. Active Geology:** \n",
      "- Earth's plate tectonics system constantly reshapes the surface, creating mountains, valleys, and volcanic activity.\n",
      "- This activity helps regulate the climate and provides a diverse range of habitats.\n",
      "\n",
      "**3. Atmospheric Composition:** \n",
      "- Earth's atmosphere contains a unique mix of gases, including oxygen, nitrogen, and carbon dioxide, which supports life.\n",
      "- The atmosphere also protects us from harmful radiation and regulates temperature.\n",
      "\n",
      "**4. Biosphere:** \n",
      "- Earth is the only known planet to harbor a wide variety of life forms, from microscopic bacteria to complex animals.\n",
      "- This rich biodiversity creates a complex ecosystem and is essential for maintaining the planet's health.\n",
      "\n",
      "**5. Magnetic Field:** \n",
      "- Earth's magnetic field shields us from harmful solar radiation, protecting life from cosmic rays.\n",
      "- It also creates the beautiful auroras.\n",
      "\n",
      "**6. Distance from the Sun:** \n",
      "- Earth's orbit is within the \"Goldilocks zone\", a region where temperatures are just right for liquid water to exist.\n",
      "- This distance allows for a habitable environment.\n",
      "\n",
      "**7. Moon's Influence:** \n",
      "- Earth's large moon stabilizes the planet's rotation, creating a stable climate and regular tides.\n",
      "- It also plays a role in the evolution of life.\n",
      "\n",
      "**8. Global Climate System:** \n",
      "- Earth's climate is influenced by various factors, including the atmosphere, oceans, and land surfaces.\n",
      "- This complex system creates diverse weather patterns and supports a wide range of ecosystems.\n",
      "\n",
      "**9. Human Intelligence:** \n",
      "- While not a characteristic of the planet itself, human intelligence is unique and allows us to study and understand Earth in ways no other species can.\n",
      "- This intelligence allows us to observe and analyze the planet's uniqueness.\n",
      "\n",
      "**10. Continuously Evolving:** \n",
      "- Earth is a dynamic planet constantly evolving due to internal and external forces.\n",
      "- This ongoing evolution creates new opportunities and challenges for life.\n",
      "\n",
      "It's important to remember that this list is not exhaustive, and the uniqueness of Earth continues to be explored and discovered. The search for extraterrestrial life further emphasizes the remarkable and singular qualities of our home planet. \n",
      "\n"
     ]
    }
   ],
   "source": [
    "prompt = \"Generate a list of ways that makes Earth unique compared to other planets\"\n",
    "\n",
    "print(call_gemini(prompt))"
   ]
  },
  {
   "cell_type": "markdown",
   "metadata": {
    "id": "R5kmfZYHZsJ7"
   },
   "source": [
    "### Ask one task at a time"
   ]
  },
  {
   "cell_type": "markdown",
   "metadata": {
    "id": "rsAezxeYZuUN"
   },
   "source": [
    "🛑 Not recommended. The prompt below has two parts to the question that could be asked separately."
   ]
  },
  {
   "cell_type": "code",
   "execution_count": 10,
   "metadata": {
    "id": "ElywPXpuZtWf",
    "tags": []
   },
   "outputs": [
    {
     "name": "stdout",
     "output_type": "stream",
     "text": [
      "Let's break down these two questions:\n",
      "\n",
      "**1. Best Method of Boiling Water:**\n",
      "\n",
      "There's no single \"best\" method, as it depends on your needs and resources. Here's a breakdown:\n",
      "\n",
      "* **Stovetop:**  Most common and efficient for everyday use. \n",
      "    * **Pros:** Simple, fast, works with various cookware.\n",
      "    * **Cons:** Requires an open flame or electric burner.\n",
      "* **Microwave:**  Quick for small amounts of water.\n",
      "    * **Pros:** Convenient, fast for small volumes.\n",
      "    * **Cons:** Can only heat small quantities, not suitable for all cookware.\n",
      "* **Electric Kettle:** Dedicated device for boiling water quickly and safely.\n",
      "    * **Pros:** Fast, automatic shut-off, often features temperature control.\n",
      "    * **Cons:** Can be expensive compared to stovetop methods.\n",
      "* **Camp Stove:** Useful for outdoor or camping.\n",
      "    * **Pros:** Portable, can be used with various fuels.\n",
      "    * **Cons:** Requires fuel source, potentially slower than other methods.\n",
      "\n",
      "**2. Why is the Sky Blue?**\n",
      "\n",
      "The blue color of the sky is due to a phenomenon called **Rayleigh Scattering**. Here's a simplified explanation:\n",
      "\n",
      "* **Sunlight:**  Sunlight is made up of all colors of the rainbow.\n",
      "* **Scattering:**  When sunlight enters the Earth's atmosphere, it encounters tiny molecules of air (nitrogen and oxygen). These molecules scatter the light in all directions.\n",
      "* **Blue Wavelengths:**  Blue wavelengths of light are scattered more effectively than other colors (like red or orange) by these tiny particles. This is because shorter wavelengths of light are more easily scattered.\n",
      "* **Our Perception:**  The scattered blue light reaches our eyes from all directions, making the sky appear blue.\n",
      "\n",
      "**Important Note:**  The sky appears red at sunset and sunrise because the sunlight has to travel through a greater distance of the atmosphere. This longer path means more blue light is scattered away, leaving the longer red and orange wavelengths to reach our eyes.\n",
      "\n"
     ]
    }
   ],
   "source": [
    "prompt = \"What's the best method of boiling water and why is the sky blue?\"\n",
    "\n",
    "print(call_gemini(prompt))"
   ]
  },
  {
   "cell_type": "markdown",
   "metadata": {
    "id": "ejzahazBZ8vk"
   },
   "source": [
    "✅ Recommended. The prompts below asks one task a time."
   ]
  },
  {
   "cell_type": "code",
   "execution_count": 11,
   "metadata": {
    "id": "C5ckp2F0Z_Ba",
    "tags": []
   },
   "outputs": [
    {
     "name": "stdout",
     "output_type": "stream",
     "text": [
      "There's no single \"best\" method of boiling water, as it depends on your needs and resources. Here's a breakdown of different methods and when they might be best:\n",
      "\n",
      "**Methods:**\n",
      "\n",
      "* **Stovetop:**\n",
      "    * **Pros:** Most common, versatile, and efficient for larger volumes. \n",
      "    * **Cons:** Requires constant attention, potential for spills or burning, not ideal for small amounts.\n",
      "* **Microwave:**\n",
      "    * **Pros:** Fast, convenient for small amounts, easy cleanup.\n",
      "    * **Cons:** Can be uneven heating, potential for splattering, limited to small volumes.\n",
      "* **Electric Kettle:**\n",
      "    * **Pros:** Fast, efficient, safe, convenient for multiple uses (tea, coffee, etc.).\n",
      "    * **Cons:** Requires additional appliance, not as versatile as a stovetop.\n",
      "* **Camping Stove:**\n",
      "    * **Pros:** Portable, ideal for outdoor use.\n",
      "    * **Cons:** May be less efficient than stovetop, limited by fuel source.\n",
      "\n",
      "**Factors to Consider:**\n",
      "\n",
      "* **Volume of Water:** Larger volumes are best on a stovetop, while microwaves are suitable for small amounts.\n",
      "* **Speed:** Electric kettles and microwaves are generally fastest.\n",
      "* **Convenience:** Microwaves and electric kettles are more convenient for quick tasks.\n",
      "* **Energy Efficiency:** Electric kettles are generally more energy-efficient than stovetops.\n",
      "* **Safety:** Stovetops require vigilance, while electric kettles are generally safer.\n",
      "\n",
      "**Recommendations:**\n",
      "\n",
      "* **Everyday use:** Electric kettle is a great option for speed and convenience.\n",
      "* **Large volumes:** Stovetop is most versatile for larger quantities.\n",
      "* **Camping/Outdoor use:** Camping stove is essential for boiling water on the go.\n",
      "* **Small amounts, quick tasks:** Microwave is convenient and fast for small volumes.\n",
      "\n",
      "Ultimately, the best method depends on your individual needs and preferences. Choose the method that best suits your situation. \n",
      "\n"
     ]
    }
   ],
   "source": [
    "prompt = \"What's the best method of boiling water?\"\n",
    "\n",
    "print(call_gemini(prompt))"
   ]
  },
  {
   "cell_type": "code",
   "execution_count": 12,
   "metadata": {
    "id": "KwUzhud4aA89",
    "tags": []
   },
   "outputs": [
    {
     "name": "stdout",
     "output_type": "stream",
     "text": [
      "The sky appears blue due to a phenomenon called **Rayleigh scattering**. Here's how it works:\n",
      "\n",
      "* **Sunlight is made up of all colors of the rainbow.**  These colors have different wavelengths.\n",
      "* **When sunlight enters the Earth's atmosphere, it interacts with the tiny particles of air, like nitrogen and oxygen.**  These particles are much smaller than the wavelengths of visible light.\n",
      "* **Shorter wavelengths, like blue and violet, are scattered more effectively by these tiny particles than longer wavelengths, like red and orange.** This scattering is called Rayleigh scattering.\n",
      "* **As a result, we see the scattered blue light coming from all directions, making the sky appear blue.**\n",
      "\n",
      "Here are some additional points:\n",
      "\n",
      "* **The sky appears red at sunset and sunrise because the sunlight has to travel through more of the atmosphere to reach our eyes.** This means more blue light is scattered away, leaving more red light to reach our eyes.\n",
      "* **The color of the sky can also be affected by other factors, such as pollution and cloud cover.**\n",
      "\n",
      "So, in short, the blue sky is a result of the way sunlight interacts with the molecules in our atmosphere.  The shorter wavelengths of blue light are scattered more effectively, giving us the familiar blue hue. \n",
      "\n"
     ]
    }
   ],
   "source": [
    "prompt = \"Why is the sky blue?\"\n",
    "\n",
    "print(call_gemini(prompt))"
   ]
  },
  {
   "cell_type": "markdown",
   "metadata": {
    "id": "PJIL2RTQaGcT"
   },
   "source": [
    "### Watch out for hallucinations"
   ]
  },
  {
   "cell_type": "markdown",
   "metadata": {
    "id": "8Y8kYxrSaHE9"
   },
   "source": [
    "Although LLMs have been trained on a large amount of data, they can generate text containing statements not grounded in truth or reality; these responses from the LLM are often referred to as \"hallucinations\" due to their limited memorization capabilities. Note that simply prompting the LLM to provide a citation isn't a fix to this problem, as there are instances of LLMs providing false or inaccurate citations. Dealing with hallucinations is a fundamental challenge of LLMs and an ongoing research area, so it is important to be cognizant that LLMs may seem to give you confident, correct-sounding statements that are in fact incorrect.\n",
    "\n",
    "Note that if you intend to use LLMs for the creative use cases, hallucinating could actually be quite useful."
   ]
  },
  {
   "cell_type": "markdown",
   "metadata": {
    "id": "8NY5nAGeaJYS"
   },
   "source": [
    "Try the prompt like the one below repeatedly. We set the temperature to 1.0 so that it takes more risks in its choices. It's possible that it may provide an inaccurate, but confident answer."
   ]
  },
  {
   "cell_type": "code",
   "execution_count": 13,
   "metadata": {
    "id": "QALPjEILaM62",
    "tags": []
   },
   "outputs": [
    {
     "name": "stdout",
     "output_type": "stream",
     "text": [
      "I do not have access to real-time information, including the current date. To find out what day it is, please check a calendar or ask a device with internet access. \n",
      "\n"
     ]
    }
   ],
   "source": [
    "generation_config = GenerationConfig(temperature=1.0)\n",
    "\n",
    "prompt = \"What day is it today?\"\n",
    "\n",
    "print(call_gemini(prompt, generation_config))"
   ]
  },
  {
   "cell_type": "markdown",
   "metadata": {
    "id": "BRkwzbgRbhKt"
   },
   "source": [
    "Since LLMs do not have access to real-time information without further integrations, you may have noticed it hallucinates what day it is today in some of the outputs."
   ]
  },
  {
   "cell_type": "markdown",
   "metadata": {
    "id": "3c811e310d02"
   },
   "source": [
    "### Using system instructions to guardrail the model from irrelevant responses\n",
    "\n",
    "How can we attempt to reduce the chances of irrelevant responses and hallucinations?\n",
    "\n",
    "One way is to provide the LLM with [system instructions](https://cloud.google.com/vertex-ai/generative-ai/docs/multimodal/send-chat-prompts-gemini#system-instructions).\n",
    "\n",
    "Let's see how system instructions works and how you can use them to reduce hallucinations or irrelevant questions for a travel chatbot.\n",
    "\n",
    "Suppose we ask a simple question about one of Italy's most famous tourist spots."
   ]
  },
  {
   "cell_type": "code",
   "execution_count": null,
   "metadata": {
    "id": "rB6zJU76biFK",
    "tags": []
   },
   "outputs": [],
   "source": [
    "model_travel = GenerativeModel(\n",
    "    model_name=\"gemini-1.5-flash\",\n",
    "    system_instruction=[\n",
    "        \"Hello! You are an AI chatbot for a travel web site.\",\n",
    "        \"Your mission is to provide helpful queries for travelers.\",\n",
    "        \"Remember that before you answer a question, you must check to see if it complies with your mission.\",\n",
    "        \"If not, you can say, Sorry I can't answer that question.\",\n",
    "    ],\n",
    ")\n",
    "\n",
    "chat = model_travel.start_chat()\n",
    "\n",
    "prompt = \"What is the best place for sightseeing in Milan, Italy?\"\n",
    "\n",
    "print(send_message_gemini(chat, prompt))"
   ]
  },
  {
   "cell_type": "markdown",
   "metadata": {
    "id": "WZa-Qcf9cF4A"
   },
   "source": [
    "Now let us pretend to be a user asks the chatbot a question that is unrelated to travel."
   ]
  },
  {
   "cell_type": "code",
   "execution_count": null,
   "metadata": {
    "id": "AZKBIDr2cGnu"
   },
   "outputs": [],
   "source": [
    "prompt = \"What's for dinner?\"\n",
    "\n",
    "print(send_message_gemini(chat, prompt))"
   ]
  },
  {
   "cell_type": "markdown",
   "metadata": {
    "id": "JiUYIhwpctCy"
   },
   "source": [
    "You can see that this way, a guardrail in the prompt prevented the chatbot from veering off course."
   ]
  },
  {
   "cell_type": "markdown",
   "metadata": {
    "id": "ZuuDhA37cvmP"
   },
   "source": [
    "### Turn generative tasks into classification tasks to reduce output variability"
   ]
  },
  {
   "cell_type": "markdown",
   "metadata": {
    "id": "kUCUrsUzczmb"
   },
   "source": [
    "#### Generative tasks lead to higher output variability"
   ]
  },
  {
   "cell_type": "markdown",
   "metadata": {
    "id": "a1xASHAkc46n"
   },
   "source": [
    "The prompt below results in an open-ended response, useful for brainstorming, but response is highly variable."
   ]
  },
  {
   "cell_type": "code",
   "execution_count": null,
   "metadata": {
    "id": "nPfXQWIacwRf"
   },
   "outputs": [],
   "source": [
    "prompt = \"I'm a high school student. Recommend me a programming activity to improve my skills.\"\n",
    "\n",
    "print(call_gemini(prompt))"
   ]
  },
  {
   "cell_type": "markdown",
   "metadata": {
    "id": "iAmm9wPYc_1o"
   },
   "source": [
    "#### Classification tasks reduces output variability"
   ]
  },
  {
   "cell_type": "markdown",
   "metadata": {
    "id": "VvRpK_0GdCpf"
   },
   "source": [
    "The prompt below results in a choice and may be useful if you want the output to be easier to control."
   ]
  },
  {
   "cell_type": "code",
   "execution_count": null,
   "metadata": {
    "id": "kYDKh0r2dAqo"
   },
   "outputs": [],
   "source": [
    "prompt = \"\"\"I'm a high school student. Which of these activities do you suggest and why:\n",
    "a) learn Python\n",
    "b) learn JavaScript\n",
    "c) learn Fortran\n",
    "\"\"\"\n",
    "\n",
    "print(call_gemini(prompt))"
   ]
  },
  {
   "cell_type": "markdown",
   "metadata": {
    "id": "iTd60b1GdIsx"
   },
   "source": [
    "### Improve response quality by including examples"
   ]
  },
  {
   "cell_type": "markdown",
   "metadata": {
    "id": "yJi44NejdJYE"
   },
   "source": [
    "Another way to improve response quality is to add examples in your prompt. The LLM learns in-context from the examples on how to respond. Typically, one to five examples (shots) are enough to improve the quality of responses. Including too many examples can cause the model to over-fit the data and reduce the quality of responses.\n",
    "\n",
    "Similar to classical model training, the quality and distribution of the examples is very important. Pick examples that are representative of the scenarios that you need the model to learn, and keep the distribution of the examples (e.g. number of examples per class in the case of classification) aligned with your actual distribution."
   ]
  },
  {
   "cell_type": "markdown",
   "metadata": {
    "id": "sMbLginWdOKs"
   },
   "source": [
    "#### Zero-shot prompt"
   ]
  },
  {
   "cell_type": "markdown",
   "metadata": {
    "id": "Crh2Loi2dQ0v"
   },
   "source": [
    "Below is an example of zero-shot prompting, where you don't provide any examples to the LLM within the prompt itself."
   ]
  },
  {
   "cell_type": "code",
   "execution_count": null,
   "metadata": {
    "id": "-7myRc-SdTQ4"
   },
   "outputs": [],
   "source": [
    "prompt = \"\"\"Decide whether a Tweet's sentiment is positive, neutral, or negative.\n",
    "\n",
    "Tweet: I loved the new YouTube video you made!\n",
    "Sentiment:\n",
    "\"\"\"\n",
    "\n",
    "print(call_gemini(prompt))"
   ]
  },
  {
   "cell_type": "markdown",
   "metadata": {
    "id": "ucRtPn9SdL64"
   },
   "source": [
    "#### One-shot prompt"
   ]
  },
  {
   "cell_type": "markdown",
   "metadata": {
    "id": "rs0gQH2vdYBi"
   },
   "source": [
    "Below is an example of one-shot prompting, where you provide one example to the LLM within the prompt to give some guidance on what type of response you want."
   ]
  },
  {
   "cell_type": "code",
   "execution_count": null,
   "metadata": {
    "id": "iEq-KxGYdaT5"
   },
   "outputs": [],
   "source": [
    "prompt = \"\"\"Decide whether a Tweet's sentiment is positive, neutral, or negative.\n",
    "\n",
    "Tweet: I loved the new YouTube video you made!\n",
    "Sentiment: positive\n",
    "\n",
    "Tweet: That was awful. Super boring 😠\n",
    "Sentiment:\n",
    "\"\"\"\n",
    "\n",
    "print(call_gemini(prompt))"
   ]
  },
  {
   "cell_type": "markdown",
   "metadata": {
    "id": "JnKLjJzmdfL_"
   },
   "source": [
    "#### Few-shot prompt"
   ]
  },
  {
   "cell_type": "markdown",
   "metadata": {
    "id": "6Zv-9F5OdgI_"
   },
   "source": [
    "Below is an example of few-shot prompting, where you provide a few examples to the LLM within the prompt to give some guidance on what type of response you want."
   ]
  },
  {
   "cell_type": "code",
   "execution_count": null,
   "metadata": {
    "id": "u37P9tG4dk9S"
   },
   "outputs": [],
   "source": [
    "prompt = \"\"\"Decide whether a Tweet's sentiment is positive, neutral, or negative.\n",
    "\n",
    "Tweet: I loved the new YouTube video you made!\n",
    "Sentiment: positive\n",
    "\n",
    "Tweet: That was awful. Super boring 😠\n",
    "Sentiment: negative\n",
    "\n",
    "Tweet: Something surprised me about this video - it was actually original. It was not the same old recycled stuff that I always see. Watch it - you will not regret it.\n",
    "Sentiment:\n",
    "\"\"\"\n",
    "\n",
    "print(call_gemini(prompt))"
   ]
  },
  {
   "cell_type": "markdown",
   "metadata": {
    "id": "wDMD3xb2dvX6"
   },
   "source": [
    "#### Choosing between zero-shot, one-shot, few-shot prompting methods"
   ]
  },
  {
   "cell_type": "markdown",
   "metadata": {
    "id": "s92W0YpNdxJp"
   },
   "source": [
    "Which prompt technique to use will solely depends on your goal. The zero-shot prompts are more open-ended and can give you creative answers, while one-shot and few-shot prompts teach the model how to behave so you can get more predictable answers that are consistent with the examples provided."
   ]
  }
 ],
 "metadata": {
  "colab": {
   "name": "intro_prompt_design.ipynb",
   "toc_visible": true
  },
  "environment": {
   "kernel": "conda-base-py",
   "name": "workbench-notebooks.m125",
   "type": "gcloud",
   "uri": "us-docker.pkg.dev/deeplearning-platform-release/gcr.io/workbench-notebooks:m125"
  },
  "kernelspec": {
   "display_name": "Python 3 (ipykernel) (Local) (Local)",
   "language": "python",
   "name": "conda-base-py"
  },
  "language_info": {
   "codemirror_mode": {
    "name": "ipython",
    "version": 3
   },
   "file_extension": ".py",
   "mimetype": "text/x-python",
   "name": "python",
   "nbconvert_exporter": "python",
   "pygments_lexer": "ipython3",
   "version": "3.10.15"
  }
 },
 "nbformat": 4,
 "nbformat_minor": 4
}
