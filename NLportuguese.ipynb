{
  "cells": [
    {
      "cell_type": "markdown",
      "metadata": {
        "colab_type": "text",
        "id": "view-in-github"
      },
      "source": [
        "<a href=\"https://colab.research.google.com/github/dgrej/python-study/blob/master/pythonUSP.ipynb\" target=\"_parent\"><img src=\"https://colab.research.google.com/assets/colab-badge.svg\" alt=\"Open In Colab\"/></a>"
      ]
    },
    {
      "cell_type": "markdown",
      "metadata": {},
      "source": [
        "### Curso de processamento de linguagem natural em portugues\n",
        "\n",
        "Acesse a [playlist do curso](https://www.ime.usp.br/curso-de-processamento-neural-de-linguagem-natural-em-portugues-e-disponibilizado-gratuitamente-no-canal-do-ime-usp-no-youtube/#:~:text=Acesse%20a%20playlist%20do%20curso%20e%20consulte%20o%20material%20em%3A%20nlportugues.ime.usp.br.) e consulte o material em: [nlportugues.ime.usp.br](https://nlportugues.ime.usp.br/)."
      ]
    }
  ],
  "metadata": {
    "colab": {
      "authorship_tag": "ABX9TyOySlnKmSDFjT/VfdtpcxAQ",
      "include_colab_link": true,
      "name": "pythonUSP.ipynb",
      "provenance": []
    },
    "kernelspec": {
      "display_name": "Python 3",
      "name": "python3"
    },
    "language_info": {
      "name": "python"
    }
  },
  "nbformat": 4,
  "nbformat_minor": 0
}
