{
  "cells": [
    {
      "cell_type": "markdown",
      "metadata": {
        "colab_type": "text",
        "id": "view-in-github"
      },
      "source": [
        "<a href=\"https://colab.research.google.com/github/dgrej/python-study/blob/master/pythonUSP.ipynb\" target=\"_parent\"><img src=\"https://colab.research.google.com/assets/colab-badge.svg\" alt=\"Open In Colab\"/></a>"
      ]
    },
    {
      "cell_type": "markdown",
      "metadata": {},
      "source": [
        "### Curso de processamento de linguagem natural em portugues\n",
        "\n",
        "Acesse a [playlist do curso](https://www.youtube.com/playlist?list=PLXLFVfqPqTjc6hGkSqH8hubd6HXJhD1L9) e consulte o material em: [nlportugues.ime.usp.br](https://nlportugues.ime.usp.br/)."
      ]
    }
  ],
  "metadata": {
    "colab": {
      "authorship_tag": "ABX9TyOySlnKmSDFjT/VfdtpcxAQ",
      "include_colab_link": true,
      "name": "pythonUSP.ipynb",
      "provenance": []
    },
    "kernelspec": {
      "display_name": "Python 3",
      "name": "python3"
    },
    "language_info": {
      "name": "python"
    }
  },
  "nbformat": 4,
  "nbformat_minor": 0
}
