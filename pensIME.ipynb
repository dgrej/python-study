{
  "nbformat": 4,
  "nbformat_minor": 0,
  "metadata": {
    "colab": {
      "name": "pensIME.ipynb",
      "provenance": [],
      "collapsed_sections": [],
      "authorship_tag": "ABX9TyPXMD5pMsrkyFeggcheDIGE",
      "include_colab_link": true
    },
    "kernelspec": {
      "name": "python3",
      "display_name": "Python 3"
    },
    "language_info": {
      "name": "python"
    }
  },
  "cells": [
    {
      "cell_type": "markdown",
      "metadata": {
        "id": "view-in-github",
        "colab_type": "text"
      },
      "source": [
        "<a href=\"https://colab.research.google.com/github/dgrej/python-study/blob/master/pensIME.ipynb\" target=\"_parent\"><img src=\"https://colab.research.google.com/assets/colab-badge.svg\" alt=\"Open In Colab\"/></a>"
      ]
    },
    {
      "cell_type": "code",
      "execution_count": null,
      "metadata": {
        "id": "Fdd_YPd5NyAC",
        "colab": {
          "base_uri": "https://localhost:8080/"
        },
        "outputId": "425a1b9f-d788-4860-9d9d-9852839a717a"
      },
      "outputs": [
        {
          "output_type": "stream",
          "name": "stdout",
          "text": [
            "2 + 3 = 5\n",
            "2 + 3 * 4 = 14\n",
            "(2+3)*4 = 20\n"
          ]
        }
      ],
      "source": [
        "print(\"2 + 3 =\", 2+3)\n",
        "print(\"2 + 3 * 4 =\", 2+3*4)\n",
        "print(\"(2+3)*4 =\", (2+3)*4)"
      ]
    }
  ]
}