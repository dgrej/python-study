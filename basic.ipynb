{
  "nbformat": 4,
  "nbformat_minor": 0,
  "metadata": {
    "colab": {
      "provenance": [],
      "authorship_tag": "ABX9TyP/2DlhSz/Zujy3cwzB9q58",
      "include_colab_link": true
    },
    "kernelspec": {
      "name": "python3",
      "display_name": "Python 3"
    },
    "language_info": {
      "name": "python"
    }
  },
  "cells": [
    {
      "cell_type": "markdown",
      "metadata": {
        "id": "view-in-github",
        "colab_type": "text"
      },
      "source": [
        "<a href=\"https://colab.research.google.com/github/dgrej/python-study/blob/master/basic.ipynb\" target=\"_parent\"><img src=\"https://colab.research.google.com/assets/colab-badge.svg\" alt=\"Open In Colab\"/></a>"
      ]
    },
    {
      "cell_type": "code",
      "execution_count": null,
      "metadata": {
        "colab": {
          "base_uri": "https://localhost:8080/"
        },
        "id": "yqJLYKK9SFWm",
        "outputId": "5f2334b5-c48b-49bf-c936-ea6919f4edd4"
      },
      "outputs": [
        {
          "output_type": "stream",
          "name": "stdout",
          "text": [
            "Aritmetica simples, entre dois números\n",
            "Digite o primeiro numero: 34.8\n",
            "Digite o segundo numero: 47.9\n",
            "A soma de 34.8 + 47.9 eh igual a 82.70\n",
            "A subtração de 34.8 - 47.9 eh igual a -13.10\n",
            "A divisão de 34.8 / 47.9 eh igual a 0.73\n",
            "A multiplicação de 34.8 * 47.9 eh igual a 1666.92\n"
          ]
        }
      ],
      "source": [
        "#aritimetica simples, com float\n",
        "# %.2f %### - faz com que se limite o valor defloat a duas variaveis numericas apos o .\n",
        "def main():\n",
        "    print(\"Aritmetica simples, entre dois números\")\n",
        "    a = float(input(\"Digite o primeiro numero: \"))\n",
        "    b = float(input(\"Digite o segundo numero: \"))\n",
        "\n",
        "    soma = a + b\n",
        "    subt = a - b\n",
        "    div = a/b\n",
        "    mult = a*b\n",
        "\n",
        "    print(\"A soma de\", a, \"+\", b, \"eh igual a\", \"%.2f\" %soma)\n",
        "    print(\"A subtração de\", a, \"-\", b, \"eh igual a\", \"%.2f\" %subt)\n",
        "    print(\"A divisão de\", a, \"/\", b, \"eh igual a\", \"%.2f\" %div)\n",
        "    print(\"A multiplicação de\", a, \"*\", b, \"eh igual a\", \"%.2f\" %mult)\n",
        "\n",
        "\n",
        "main()\n",
        "\n"
      ]
    }
  ]
}