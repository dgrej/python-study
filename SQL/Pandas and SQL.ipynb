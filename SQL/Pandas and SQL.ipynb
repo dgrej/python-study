{
 "cells": [
  {
   "cell_type": "markdown",
   "id": "f8e11ab5-2912-4c6c-bd50-ceec32af5575",
   "metadata": {},
   "source": [
    "### **Carregar os dados do Excel**\n",
    "\n",
    "Use o Pandas para ler o arquivo Excel:\n",
    "```python\n",
    "import pandas as pd\n",
    "import sqlite3\n",
    "\n",
    "# Passo 1: Carregar os dados do Excel\n",
    "caminho_excel = r\"C:\\Users\\dino.grejo\\OneDrive - VIVEO\\Documentos\\python\\cod_fornecedores.xlsx\"  # Substitua pelo caminho do seu arquivo\n",
    "\n",
    "# Ler o arquivo Excel, forçando as colunas CNPJ_REMETENTE, cod e loja como texto\n",
    "df = pd.read_excel(caminho_excel, dtype={\n",
    "    'CNPJ_REMETENTE': str,  # Forçar como texto\n",
    "    'cod': str,             # Forçar como texto\n",
    "    'loja': str             # Forçar como texto\n",
    "})\n",
    "\n",
    "# Substituir 'nan' por strings vazias ('') nas colunas cod e loja\n",
    "df['cod'] = df['cod'].replace('nan', '')\n",
    "df['loja'] = df['loja'].replace('nan', '')\n",
    "\n",
    "# Exibir as primeiras linhas para verificar os dados\n",
    "print(df.head())"
   ]
  },
  {
   "cell_type": "code",
   "execution_count": null,
   "id": "93244a55-8653-4fbd-80dd-4f8ab7fd0a67",
   "metadata": {},
   "outputs": [],
   "source": [
    "import pandas as pd\n",
    "import sqlite3\n",
    "\n",
    "# Passo 1: Carregar os dados do Excel\n",
    "caminho_excel = r\"C:\\Users\\dino.grejo\\OneDrive - VIVEO\\Documentos\\python\\cod_fornecedores.xlsx\"  # Substitua pelo caminho do seu arquivo\n",
    "\n",
    "# Ler o arquivo Excel, forçando as colunas CNPJ_REMETENTE, cod e loja como texto\n",
    "df = pd.read_excel(caminho_excel, dtype={\n",
    "    'CNPJ_REMETENTE': str,  # Forçar como texto\n",
    "    'cod': str,             # Forçar como texto\n",
    "    'loja': str             # Forçar como texto\n",
    "})\n",
    "\n",
    "# Substituir 'nan' por strings vazias ('') nas colunas cod e loja\n",
    "df['cod'] = df['cod'].replace('nan', '')\n",
    "df['loja'] = df['loja'].replace('nan', '')\n",
    "\n",
    "# Exibir as primeiras linhas para verificar os dados\n",
    "print(df.head())"
   ]
  },
  {
   "cell_type": "markdown",
   "id": "9900142f-70a3-46cc-98af-a9800a082781",
   "metadata": {
    "jp-MarkdownHeadingCollapsed": true
   },
   "source": [
    "### **Conectar ao banco de dados SQLite**\n",
    " \n",
    "O SQLite é uma biblioteca embutida no Python, então você pode usá-la diretamente. Vamos criar um banco de dados e uma tabela para armazenar os dados do Excel.\n",
    "\n",
    "```python\n",
    "import sqlite3\n",
    "\n",
    "# Conectar ao banco de dados (ou criar se não existir)\n",
    "conn = sqlite3.connect('fornecedores.db')\n",
    "\n",
    "# Criar um cursor para executar comandos SQL\n",
    "cursor = conn.cursor()"
   ]
  },
  {
   "cell_type": "code",
   "execution_count": null,
   "id": "6578766e-5c85-4f56-9dd4-baed4d888395",
   "metadata": {},
   "outputs": [],
   "source": [
    "import sqlite3\n",
    "\n",
    "# Conectar ao banco de dados (ou criar se não existir)\n",
    "conn = sqlite3.connect('fornecedores.db')\n",
    "\n",
    "# Criar um cursor para executar comandos SQL\n",
    "cursor = conn.cursor()"
   ]
  },
  {
   "cell_type": "markdown",
   "id": "b9b84c3a-643a-4677-ba13-5f452c46271e",
   "metadata": {
    "jp-MarkdownHeadingCollapsed": true
   },
   "source": [
    "### **Criar a tabela no banco de dados**\n",
    "\n",
    "Agora, vamos criar uma tabela no banco de dados SQLite. O nome da tabela será fornecedores, e as colunas serão baseadas nas colunas do DataFrame do Pandas.\n",
    "\n",
    "Substitua nome, idade, cidade, etc., pelos nomes das colunas do seu arquivo Excel.\n",
    "```python\n",
    "# Nome da tabela\n",
    "nome_tabela = \"fornecedores\"\n",
    "\n",
    "# Criar a tabela com os tipos corretos\n",
    "cursor.execute(f'''\n",
    "CREATE TABLE IF NOT EXISTS {nome_tabela} (\n",
    "    id INTEGER PRIMARY KEY AUTOINCREMENT,\n",
    "    REMETENTE TEXT,\n",
    "    CNPJ_REMETENTE TEXT,  -- Definido como TEXT para preservar zeros à esquerda\n",
    "    COD TEXT,             -- Definido como TEXT para preservar zeros à esquerda\n",
    "    LOJA TEXT             -- Definido como TEXT para preservar zeros à esquerda\n",
    ");\n",
    "''')\n",
    "\n",
    "# Confirmar a criação da tabela\n",
    "conn.commit()"
   ]
  },
  {
   "cell_type": "code",
   "execution_count": null,
   "id": "20f6c81d-3ef3-403d-b9cd-a1a01a31b420",
   "metadata": {},
   "outputs": [],
   "source": [
    "# Nome da tabela\n",
    "nome_tabela = \"fornecedores\"\n",
    "\n",
    "# Criar a tabela com os tipos corretos\n",
    "cursor.execute(f'''\n",
    "CREATE TABLE IF NOT EXISTS {nome_tabela} (\n",
    "    id INTEGER PRIMARY KEY AUTOINCREMENT,\n",
    "    REMETENTE TEXT,\n",
    "    CNPJ_REMETENTE TEXT,  -- Definido como TEXT para preservar zeros à esquerda\n",
    "    COD TEXT,             -- Definido como TEXT para preservar zeros à esquerda\n",
    "    LOJA TEXT             -- Definido como TEXT para preservar zeros à esquerda\n",
    ");\n",
    "''')\n",
    "\n",
    "# Confirmar a criação da tabela\n",
    "conn.commit()"
   ]
  },
  {
   "cell_type": "markdown",
   "id": "b7a6a9a6-303d-43c4-a4ba-fe99175b9edc",
   "metadata": {},
   "source": [
    "### **Inserir os dados do Excel no banco de dados**\n",
    " \n",
    "Agora, vamos inserir os dados do DataFrame (que veio do Excel) na tabela do banco de dados SQLite.\n",
    "\n",
    "```python\n",
    "# Inserir os dados na tabela\n",
    "df.to_sql(nome_tabela, conn, if_exists='replace', index=False)\n",
    "\n",
    "print(f\"Dados exportados para a tabela '{nome_tabela}' no banco de dados!\")\n",
    "\n"
   ]
  },
  {
   "cell_type": "code",
   "execution_count": null,
   "id": "b7dd4d69-799c-4df2-8dc3-3c27054fefe9",
   "metadata": {},
   "outputs": [],
   "source": [
    "# Inserir os dados na tabela\n",
    "df.to_sql(nome_tabela, conn, if_exists='replace', index=False)\n",
    "\n",
    "print(f\"Dados exportados para a tabela '{nome_tabela}' no banco de dados!\")"
   ]
  },
  {
   "cell_type": "markdown",
   "id": "6995f491-b056-43db-b183-f72858cf63c5",
   "metadata": {},
   "source": [
    "### **Consultar os dados no banco de dados**\n",
    "\n",
    "Agora que os dados estão no banco de dados, você pode consultá-los usando o Pandas ou o SQLite diretamente."
   ]
  },
  {
   "cell_type": "markdown",
   "id": "91a1d17b-0a8e-4243-a1f1-5dcf35a9031c",
   "metadata": {},
   "source": [
    "### **Usando o Pandas:**\n",
    "\n",
    "```python\n",
    "# Consultar os dados da tabela\n",
    "query = \"SELECT * FROM fornecedores\"\n",
    "df_consulta = pd.read_sql(query, conn)\n",
    "\n",
    "# Exibir os dados\n",
    "df_consulta.head()"
   ]
  },
  {
   "cell_type": "code",
   "execution_count": null,
   "id": "d521d001-8ade-46a4-9ff5-78477020687f",
   "metadata": {},
   "outputs": [],
   "source": [
    "# Consultar os dados da tabela\n",
    "query = \"SELECT * FROM fornecedores\"\n",
    "df_consulta = pd.read_sql(query, conn)\n",
    "\n",
    "# Exibir os dados\n",
    "df_consulta.head()"
   ]
  },
  {
   "cell_type": "markdown",
   "id": "d6802d3a-f53b-45dd-a3e9-c0e739a9e391",
   "metadata": {
    "jp-MarkdownHeadingCollapsed": true
   },
   "source": [
    "### **Usando o SQLite diretamente:**\n",
    "\n",
    "```python\n",
    "# Executar uma consulta SQL\n",
    "cursor.execute(\"SELECT * FROM fornecedores\")\n",
    "\n",
    "# Recuperar os resultados\n",
    "resultados = cursor.fetchall()\n",
    "\n",
    "# Exibir os resultados\n",
    "for linha in resultados:\n",
    "    print(linha)"
   ]
  },
  {
   "cell_type": "code",
   "execution_count": null,
   "id": "41d6f9cc-17a8-4f2b-add1-b6df6a2b34a3",
   "metadata": {},
   "outputs": [],
   "source": [
    "# Executar uma consulta SQL\n",
    "cursor.execute(\"SELECT * FROM fornecedores\")\n",
    "\n",
    "# Recuperar os resultados\n",
    "resultados = cursor.fetchall()\n",
    "\n",
    "# Exibir os resultados\n",
    "for linha in resultados:\n",
    "    print(linha)"
   ]
  },
  {
   "cell_type": "markdown",
   "id": "f60be84b-5d6b-4d59-b9a2-c4f32afae988",
   "metadata": {},
   "source": [
    "### **Fechar a conexão com o banco de dados**\n",
    "\n",
    "Quando terminar de trabalhar com o banco de dados, não se esqueça de fechar a conexão:\n",
    "\n",
    "```python\n",
    "conn.close()"
   ]
  },
  {
   "cell_type": "code",
   "execution_count": 2,
   "id": "5aa1fe36-9b39-4f12-b48c-52a5b1e7738f",
   "metadata": {},
   "outputs": [],
   "source": [
    "conn.close()"
   ]
  },
  {
   "cell_type": "markdown",
   "id": "324a862e-6297-48cb-b358-f105e3cb07c7",
   "metadata": {},
   "source": [
    "### **Conectar ao banco de dados**\n",
    "\n",
    "Primeiro, precisamos conectar ao banco de dados SQLite usando o `sqlite3` (biblioteca embutida no Python) ou o `sqlalchemy` (recomendado para integração com o Pandas)."
   ]
  },
  {
   "cell_type": "code",
   "execution_count": 1,
   "id": "be1c2ce4-6236-47c1-8c33-c332188a2c9b",
   "metadata": {},
   "outputs": [],
   "source": [
    "import sqlite3\n",
    "import pandas as pd\n",
    "\n",
    "# Conectar ao banco de dados (substitua 'fornecedores.db' pelo caminho do seu arquivo .db)\n",
    "conn = sqlite3.connect('fornecedores.db')\n",
    "\n",
    "# Criar um cursor para executar comandos SQL\n",
    "cursor = conn.cursor()"
   ]
  },
  {
   "cell_type": "markdown",
   "id": "6bcd387f-3a2b-4944-9b73-437d3e64fdeb",
   "metadata": {},
   "source": [
    "### **Consultar os dados**\n",
    "\n",
    "Você pode consultar os dados diretamente usando SQL ou carregar os dados em um DataFrame do Pandas para manipulação."
   ]
  },
  {
   "cell_type": "markdown",
   "id": "2f5e2507-2890-40fa-a361-75a125cced4b",
   "metadata": {},
   "source": [
    "### **Consultar usando SQL**\n",
    "\n",
    "```python\n",
    "# Consultar todos os dados da tabela fornecedores\n",
    "cursor.execute(\"SELECT * FROM fornecedores\")\n",
    "resultados = cursor.fetchall()\n",
    "\n",
    "# Exibir os resultados\n",
    "for linha in resultados:\n",
    "    print(linha)"
   ]
  },
  {
   "cell_type": "code",
   "execution_count": null,
   "id": "996983eb-0dfe-49d9-8f4c-ccd6075aa1a9",
   "metadata": {},
   "outputs": [],
   "source": [
    "# Consultar todos os dados da tabela fornecedores\n",
    "cursor.execute(\"SELECT * FROM fornecedores\") #Alterar o codigo de consulta SQL\n",
    "resultados = cursor.fetchall()\n",
    "\n",
    "# Exibir os resultados\n",
    "for linha in resultados:\n",
    "    print(linha)"
   ]
  },
  {
   "cell_type": "markdown",
   "id": "7b75bd4b-d53f-4f49-855a-1fe20fc1ac7d",
   "metadata": {
    "jp-MarkdownHeadingCollapsed": true
   },
   "source": [
    "### **Consultar usando Pandas**\n",
    "\n",
    "```python\n",
    "# Carregar os dados da tabela fornecedores em um DataFrame\n",
    "query = \"SELECT * FROM fornecedores\"\n",
    "df = pd.read_sql(query, conn)\n",
    "\n",
    "# Exibir as primeiras linhas do DataFrame\n",
    "print(df.head())"
   ]
  },
  {
   "cell_type": "code",
   "execution_count": null,
   "id": "558aff5e-fec9-452c-a545-927d39956e18",
   "metadata": {},
   "outputs": [],
   "source": [
    "# Carregar os dados da tabela fornecedores em um DataFrame\n",
    "query = \"SELECT * FROM fornecedores\"\n",
    "df = pd.read_sql(query, conn)\n",
    "\n",
    "# Exibir as primeiras linhas do DataFrame\n",
    "print(df.head())"
   ]
  },
  {
   "cell_type": "markdown",
   "id": "340f5621-6546-4632-a782-7809fd74237c",
   "metadata": {},
   "source": [
    "### **Alterar os dados**\n",
    "\n",
    "Você pode alterar os dados no banco de dados usando comandos SQL ou manipulando o DataFrame e enviando as alterações de volta para o banco de dados."
   ]
  },
  {
   "cell_type": "markdown",
   "id": "814af5ed-76ce-4802-b564-65a75f9c325c",
   "metadata": {
    "jp-MarkdownHeadingCollapsed": true
   },
   "source": [
    "### **Alterar usando SQL**\n",
    "\n",
    "```python\n",
    "# Atualizar um registro na tabela fornecedores\n",
    "cursor.execute(\"UPDATE fornecedores SET loja = '0002' WHERE cod = '02218'\")\n",
    "\n",
    "# Confirmar a alteração\n",
    "conn.commit()\n",
    "\n",
    "# Verificar a alteração\n",
    "cursor.execute(\"SELECT * FROM fornecedores WHERE cod = '02218'\")\n",
    "print(cursor.fetchall())"
   ]
  },
  {
   "cell_type": "code",
   "execution_count": null,
   "id": "f7296aeb-3fdb-475b-a158-2295fd188406",
   "metadata": {},
   "outputs": [],
   "source": [
    "# Atualizar um registro na tabela fornecedores\n",
    "cursor.execute(\"UPDATE fornecedores SET loja = '0002' WHERE cod = '02218'\")\n",
    "\n",
    "# Confirmar a alteração\n",
    "conn.commit()\n",
    "\n",
    "# Verificar a alteração\n",
    "cursor.execute(\"SELECT * FROM fornecedores WHERE cod = '02218'\")\n",
    "print(cursor.fetchall())"
   ]
  },
  {
   "cell_type": "markdown",
   "id": "e7133a71-6e48-4e21-a09c-1ac7d5e3dc92",
   "metadata": {
    "jp-MarkdownHeadingCollapsed": true
   },
   "source": [
    "### **Alterar usando Pandas**\n",
    "\n",
    "```python\n",
    "# Carregar os dados da tabela fornecedores em um DataFrame\n",
    "df = pd.read_sql(\"SELECT * FROM fornecedores\", conn)\n",
    "\n",
    "# Alterar um valor no DataFrame\n",
    "df.loc[df['cod'] == '02218', 'loja'] = '0002'\n",
    "\n",
    "# Enviar as alterações de volta para o banco de dados\n",
    "df.to_sql('fornecedores', conn, if_exists='replace', index=False)\n",
    "\n",
    "# Verificar a alteração\n",
    "print(df[df['cod'] == '02218'])"
   ]
  },
  {
   "cell_type": "code",
   "execution_count": null,
   "id": "fbfce45b-e8db-4780-90b4-a9e47f93f7b9",
   "metadata": {},
   "outputs": [],
   "source": [
    "# Carregar os dados da tabela fornecedores em um DataFrame\n",
    "query = \"SELECT * FROM fornecedores\"\n",
    "df = pd.read_sql(query, conn)\n",
    "\n",
    "# Alterar um valor no DataFrame\n",
    "df.loc[df['cod'] == '02218', 'loja'] = '0002'\n",
    "\n",
    "# Enviar as alterações de volta para o banco de dados\n",
    "df.to_sql('fornecedores', conn, if_exists='replace', index=False)\n",
    "\n",
    "# Verificar a alteração\n",
    "print(df[df['cod'] == '02218'])"
   ]
  },
  {
   "cell_type": "markdown",
   "id": "9811d5cf-3e66-4974-bb5f-a0f2aea9e5d8",
   "metadata": {},
   "source": [
    "### **Inserir novos dados**\n",
    "\n",
    "Você pode inserir novos dados diretamente usando SQL ou adicionar linhas ao DataFrame e enviá-las para o banco de dados."
   ]
  },
  {
   "cell_type": "markdown",
   "id": "37753849-b0a6-4ea5-8097-47a16baebc5c",
   "metadata": {
    "jp-MarkdownHeadingCollapsed": true
   },
   "source": [
    "### **Inserir usando SQL**\n",
    "\n",
    "```python\n",
    "# Inserir um novo registro na tabela fornecedores\n",
    "cursor.execute(\"INSERT INTO fornecedores (REMETENTE, CNPJ_REMETENTE, cod, loja) VALUES ('Novo Fornecedor', '12345678901234', '99999', '0001')\")\n",
    "\n",
    "# Confirmar a inserção\n",
    "conn.commit()\n",
    "\n",
    "# Verificar a inserção\n",
    "cursor.execute(\"SELECT * FROM fornecedores WHERE cod = '99999'\")\n",
    "print(cursor.fetchall())"
   ]
  },
  {
   "cell_type": "code",
   "execution_count": null,
   "id": "06251bd9-a06e-4482-aa5e-32e71ab59131",
   "metadata": {},
   "outputs": [],
   "source": [
    "# Inserir um novo registro na tabela fornecedores\n",
    "cursor.execute(\"INSERT INTO fornecedores (REMETENTE, CNPJ_REMETENTE, cod, loja) VALUES ('Novo Fornecedor', '12345678901234', '99999', '0001')\")\n",
    "\n",
    "# Confirmar a inserção\n",
    "conn.commit()\n",
    "\n",
    "# Verificar a inserção\n",
    "cursor.execute(\"SELECT * FROM fornecedores WHERE cod = '99999'\")\n",
    "print(cursor.fetchall())"
   ]
  },
  {
   "cell_type": "markdown",
   "id": "de717e4c-11ee-472c-bcbd-d746f76b16c5",
   "metadata": {
    "jp-MarkdownHeadingCollapsed": true
   },
   "source": [
    "### **Inserir usando Pandas**\n",
    "\n",
    "```python\n",
    "# Criar um novo DataFrame com os dados a serem inseridos\n",
    "novo_fornecedor = pd.DataFrame({\n",
    "    'REMETENTE': ['Novo Fornecedor'],\n",
    "    'CNPJ_REMETENTE': ['12345678901234'],\n",
    "    'cod': ['99999'],\n",
    "    'loja': ['0001']\n",
    "})\n",
    "\n",
    "# Adicionar os novos dados ao DataFrame existente\n",
    "df = pd.read_sql(\"SELECT * FROM fornecedores\", conn)\n",
    "df = pd.concat([df, novo_fornecedor], ignore_index=True)\n",
    "\n",
    "# Enviar os dados atualizados de volta para o banco de dados\n",
    "df.to_sql('fornecedores', conn, if_exists='replace', index=False)\n",
    "\n",
    "# Verificar a inserção\n",
    "print(df[df['cod'] == '99999'])"
   ]
  },
  {
   "cell_type": "code",
   "execution_count": null,
   "id": "677d14ce-6544-4365-bb62-050c60737dca",
   "metadata": {},
   "outputs": [],
   "source": [
    "# Criar um novo DataFrame com os dados a serem inseridos\n",
    "novo_fornecedor = pd.DataFrame({\n",
    "    'REMETENTE': ['Novo Fornecedor'],\n",
    "    'CNPJ_REMETENTE': ['12345678901234'],\n",
    "    'cod': ['99999'],\n",
    "    'loja': ['0001']\n",
    "})\n",
    "\n",
    "# Adicionar os novos dados ao DataFrame existente\n",
    "df = pd.read_sql(\"SELECT * FROM fornecedores\", conn)\n",
    "df = pd.concat([df, novo_fornecedor], ignore_index=True)\n",
    "\n",
    "# Enviar os dados atualizados de volta para o banco de dados\n",
    "df.to_sql('fornecedores', conn, if_exists='replace', index=False)\n",
    "\n",
    "# Verificar a inserção\n",
    "print(df[df['cod'] == '99999'])"
   ]
  },
  {
   "cell_type": "markdown",
   "id": "daf10118-a092-4885-ac14-077eff809fa8",
   "metadata": {},
   "source": [
    "### **Excluir dados**\n",
    "\n",
    "Você pode excluir dados diretamente usando SQL ou filtrar o DataFrame e enviar as alterações de volta para o banco de dados."
   ]
  },
  {
   "cell_type": "markdown",
   "id": "61805f27-7335-48d5-bff1-c2dc078eb7a5",
   "metadata": {
    "jp-MarkdownHeadingCollapsed": true
   },
   "source": [
    "### **Excluir usando SQL**\n",
    "\n",
    "```python\n",
    "# Excluir um registro da tabela fornecedores\n",
    "cursor.execute(\"DELETE FROM fornecedores WHERE cod = '99999'\")\n",
    "\n",
    "# Confirmar a exclusão\n",
    "conn.commit()\n",
    "\n",
    "# Verificar a exclusão\n",
    "cursor.execute(\"SELECT * FROM fornecedores WHERE cod = '99999'\")\n",
    "print(cursor.fetchall())"
   ]
  },
  {
   "cell_type": "code",
   "execution_count": null,
   "id": "65a35eb2-523a-4a2e-aee3-bf6a09f3e06a",
   "metadata": {},
   "outputs": [],
   "source": [
    "# Excluir um registro da tabela fornecedores\n",
    "cursor.execute(\"DELETE FROM fornecedores WHERE cod = '99999'\")\n",
    "\n",
    "# Confirmar a exclusão\n",
    "conn.commit()\n",
    "\n",
    "# Verificar a exclusão\n",
    "cursor.execute(\"SELECT * FROM fornecedores WHERE cod = '99999'\")\n",
    "print(cursor.fetchall())"
   ]
  },
  {
   "cell_type": "markdown",
   "id": "6b8b24ad-97aa-4d99-aa7b-82ca8f4cdef7",
   "metadata": {
    "jp-MarkdownHeadingCollapsed": true
   },
   "source": [
    "### **Excluir usando Pandas**\n",
    "\n",
    "```python\n",
    "# Carregar os dados da tabela fornecedores em um DataFrame\n",
    "df = pd.read_sql(\"SELECT * FROM fornecedores\", conn)\n",
    "\n",
    "# Filtrar os dados para excluir um registro\n",
    "df = df[df['cod'] != '99999']\n",
    "\n",
    "# Enviar os dados atualizados de volta para o banco de dados\n",
    "df.to_sql('fornecedores', conn, if_exists='replace', index=False)\n",
    "\n",
    "# Verificar a exclusão\n",
    "print(df[df['cod'] == '99999'])"
   ]
  },
  {
   "cell_type": "code",
   "execution_count": null,
   "id": "04db4692-3c9b-4781-a1bc-31cab03cadd1",
   "metadata": {},
   "outputs": [],
   "source": [
    "# Carregar os dados da tabela fornecedores em um DataFrame\n",
    "df = pd.read_sql(\"SELECT * FROM fornecedores\", conn)\n",
    "\n",
    "# Filtrar os dados para excluir um registro\n",
    "df = df[df['cod'] != '99999']\n",
    "\n",
    "# Enviar os dados atualizados de volta para o banco de dados\n",
    "df.to_sql('fornecedores', conn, if_exists='replace', index=False)\n",
    "\n",
    "# Verificar a exclusão\n",
    "print(df[df['cod'] == '99999'])"
   ]
  },
  {
   "cell_type": "markdown",
   "id": "b330e15e-442f-40af-83d5-8231aa871480",
   "metadata": {
    "jp-MarkdownHeadingCollapsed": true
   },
   "source": [
    "### **Fechar a conexão**\n",
    "\n",
    "Sempre feche a conexão com o banco de dados quando terminar de usá-lo:\n",
    "\n",
    "```python\n",
    "conn.close()"
   ]
  },
  {
   "cell_type": "code",
   "execution_count": null,
   "id": "b8bcf46c-6cc6-48b7-ab1d-468e86c34405",
   "metadata": {},
   "outputs": [],
   "source": [
    "conn.close()"
   ]
  },
  {
   "cell_type": "markdown",
   "id": "fae9d31e-58a8-44c6-91b9-2918eb920c72",
   "metadata": {},
   "source": [
    "### **Resumo:**\n",
    "\n",
    "- **Consultar dados:** Use `cursor.execute()` para SQL ou `pd.read_sql()` para Pandas.\n",
    "- **Alterar dados:** Use `UPDATE` em SQL ou manipule o DataFrame e use `to_sql()`.\n",
    "- **Inserir dados:** Use `INSERT` em SQL ou adicione linhas ao DataFrame e use `to_sql()`.\n",
    "- **Excluir dados:** Use `DELETE` em SQL ou filtre o DataFrame e use `to_sql()`."
   ]
  },
  {
   "cell_type": "markdown",
   "id": "1c654f87",
   "metadata": {},
   "source": [
    "## **Passo a Passo para Conversão .DB SQLite em Excel**"
   ]
  },
  {
   "cell_type": "markdown",
   "id": "4cc4c0b6",
   "metadata": {},
   "source": [
    "\n",
    "\n",
    "Sim! Você pode facilmente converter um banco de dados SQLite (`fornecedores.db`) em uma planilha Excel (`.xlsx`) usando Python com as bibliotecas `sqlite3` e `pandas`. Siga estes passos:\n",
    "\n",
    "#### 1. **Conectar ao Banco SQLite e Ler os Dados**\n",
    "```python\n",
    "import sqlite3\n",
    "import pandas as pd\n",
    "\n",
    "# Conectar ao banco de dados\n",
    "conn = sqlite3.connect('fornecedores.db')\n",
    "\n",
    "# Ler os dados da tabela (substitua 'nome_da_tabela' pelo nome real)\n",
    "query = \"SELECT * FROM nome_da_tabela\"\n",
    "df = pd.read_sql_query(query, conn)\n",
    "\n",
    "# Fechar a conexão\n",
    "conn.close()\n",
    "```\n",
    "\n",
    "#### 2. **Salvar como Excel**\n",
    "```python\n",
    "# Salvar em arquivo Excel\n",
    "df.to_excel('fornecedores.xlsx', index=False, sheet_name='Fornecedores')\n",
    "```\n",
    "\n",
    "#### 3. **Verificação**\n",
    "- O arquivo `fornecedores.xlsx` será criado no mesmo diretório do script.\n",
    "- Abra-o no Excel para confirmar os dados.\n",
    "\n",
    "---\n",
    "\n",
    "### **Exemplo Completo**\n",
    "```python\n",
    "import sqlite3\n",
    "import pandas as pd\n",
    "\n",
    "# 1. Conectar e ler dados\n",
    "conn = sqlite3.connect('fornecedores.db')\n",
    "df = pd.read_sql_query(\"SELECT * FROM fornecedores\", conn)  # Substitua 'fornecedores' pelo nome da sua tabela\n",
    "conn.close()\n",
    "\n",
    "# 2. Exportar para Excel\n",
    "df.to_excel('fornecedores.xlsx', index=False)\n",
    "\n",
    "print(\"Conversão concluída! Arquivo 'fornecedores.xlsx' gerado.\")\n",
    "```\n",
    "\n",
    "---\n",
    "\n",
    "### **Dicas Importantes**\n",
    "1. **Nome da Tabela**:\n",
    "   - Se você não souber o nome da tabela no banco de dados, use:\n",
    "     ```python\n",
    "     cursor = conn.cursor()\n",
    "     cursor.execute(\"SELECT name FROM sqlite_master WHERE type='table';\")\n",
    "     print(cursor.fetchall())  # Lista todas as tabelas\n",
    "     ```\n",
    "\n",
    "2. **Múltiplas Planilhas**:\n",
    "   - Para salvar tabelas diferentes em abas do mesmo Excel:\n",
    "     ```python\n",
    "     with pd.ExcelWriter('fornecedores_completo.xlsx') as writer:\n",
    "         df1.to_excel(writer, sheet_name='Fornecedores', index=False)\n",
    "         df2.to_excel(writer, sheet_name='Produtos', index=False)\n",
    "     ```\n",
    "\n",
    "3. **Formatação**:\n",
    "   - Use `openpyxl` (instalado automaticamente com `pandas`) para personalizar o Excel (cores, fórmulas, etc.).\n",
    "\n",
    "4. **Ambiente Virtual**:\n",
    "   - Certifique-se de que o ambiente virtual está ativo e que `pandas` está instalado:\n",
    "     ```powershell\n",
    "     pip install pandas openpyxl\n",
    "     ```\n",
    "\n",
    "---\n",
    "\n",
    "### **Problemas Comuns e Soluções**\n",
    "- **Erro \"No such table\"**: Verifique o nome correto da tabela no banco de dados.\n",
    "- **Erro de permissão**: Feche o arquivo `.db` ou `.xlsx` antes de executar o script.\n",
    "- **Dados truncados**: Se a planilha estiver cortando dados, aumente o tamanho das colunas no Excel após a exportação.\n",
    "\n",
    "---\n",
    "\n",
    "### **Resultado Final**\n",
    "Você terá um arquivo Excel organizado, pronto para análise ou compartilhamento. Se precisar de ajuda adicional, é só perguntar! 😊"
   ]
  },
  {
   "cell_type": "code",
   "execution_count": 1,
   "id": "32283f6c",
   "metadata": {},
   "outputs": [
    {
     "name": "stdout",
     "output_type": "stream",
     "text": [
      "Conversão concluída! Arquivo 'fornecedores.xlsx' gerado.\n"
     ]
    }
   ],
   "source": [
    "import sqlite3\n",
    "import pandas as pd\n",
    "\n",
    "# 1. Conectar e ler dados\n",
    "conn = sqlite3.connect('fornecedores.db')\n",
    "df = pd.read_sql_query(\"SELECT * FROM fornecedores\", conn)  # Substitua 'fornecedores' pelo nome da sua tabela\n",
    "conn.close()\n",
    "\n",
    "# 2. Exportar para Excel\n",
    "df.to_excel('fornecedores.xlsx', index=False)\n",
    "\n",
    "print(\"Conversão concluída! Arquivo 'fornecedores.xlsx' gerado.\")"
   ]
  }
 ],
 "metadata": {
  "kernelspec": {
   "display_name": ".venv",
   "language": "python",
   "name": "python3"
  },
  "language_info": {
   "codemirror_mode": {
    "name": "ipython",
    "version": 3
   },
   "file_extension": ".py",
   "mimetype": "text/x-python",
   "name": "python",
   "nbconvert_exporter": "python",
   "pygments_lexer": "ipython3",
   "version": "3.10.11"
  }
 },
 "nbformat": 4,
 "nbformat_minor": 5
}
